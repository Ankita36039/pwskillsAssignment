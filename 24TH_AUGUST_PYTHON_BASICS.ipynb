{
 "cells": [
  {
   "cell_type": "code",
   "execution_count": 1,
   "id": "d9dc1067-e1b2-423d-bb5b-308d8677c7b5",
   "metadata": {},
   "outputs": [],
   "source": [
    "x=8\n",
    "y=5\n",
    "x=x+y\n",
    "y=x-y\n",
    "x=x-y\n"
   ]
  },
  {
   "cell_type": "code",
   "execution_count": 2,
   "id": "b3c74f0d-1624-4a80-b8d1-b631db50141b",
   "metadata": {},
   "outputs": [
    {
     "data": {
      "text/plain": [
       "5"
      ]
     },
     "execution_count": 2,
     "metadata": {},
     "output_type": "execute_result"
    }
   ],
   "source": [
    "x"
   ]
  },
  {
   "cell_type": "code",
   "execution_count": 3,
   "id": "e5db4828-bf0f-4468-9732-b08ae172e262",
   "metadata": {},
   "outputs": [
    {
     "data": {
      "text/plain": [
       "8"
      ]
     },
     "execution_count": 3,
     "metadata": {},
     "output_type": "execute_result"
    }
   ],
   "source": [
    "y"
   ]
  },
  {
   "cell_type": "code",
   "execution_count": 4,
   "id": "906f8310-a189-4985-b2d2-d6d0c65a172d",
   "metadata": {},
   "outputs": [
    {
     "name": "stdin",
     "output_type": "stream",
     "text": [
      " 89\n",
      " 97\n"
     ]
    }
   ],
   "source": [
    "l=int(input())\n",
    "w=int(input())\n",
    "area=l*w"
   ]
  },
  {
   "cell_type": "code",
   "execution_count": 5,
   "id": "5c909ad3-b441-40e9-9601-55b21bacb20c",
   "metadata": {},
   "outputs": [
    {
     "data": {
      "text/plain": [
       "8633"
      ]
     },
     "execution_count": 5,
     "metadata": {},
     "output_type": "execute_result"
    }
   ],
   "source": [
    "area"
   ]
  },
  {
   "cell_type": "code",
   "execution_count": 7,
   "id": "c5deae20-bfd6-48b3-a41f-08e6b1cc50f7",
   "metadata": {},
   "outputs": [
    {
     "name": "stdin",
     "output_type": "stream",
     "text": [
      " 67.9\n"
     ]
    }
   ],
   "source": [
    "c=float(input())\n",
    "f=c*1.8+32"
   ]
  },
  {
   "cell_type": "code",
   "execution_count": 8,
   "id": "da3c02f6-97e3-4c5a-a61f-57521a259ec8",
   "metadata": {},
   "outputs": [
    {
     "data": {
      "text/plain": [
       "154.22000000000003"
      ]
     },
     "execution_count": 8,
     "metadata": {},
     "output_type": "execute_result"
    }
   ],
   "source": [
    "f"
   ]
  },
  {
   "cell_type": "code",
   "execution_count": 9,
   "id": "ed188308-f15f-4237-afa1-6788dcbaf3ae",
   "metadata": {},
   "outputs": [],
   "source": [
    "b='yahoo'\n",
    "l=len(b)"
   ]
  },
  {
   "cell_type": "code",
   "execution_count": 13,
   "id": "4171a38a-e9d4-4ffe-93bf-72c95f96171e",
   "metadata": {},
   "outputs": [
    {
     "data": {
      "text/plain": [
       "5"
      ]
     },
     "execution_count": 13,
     "metadata": {},
     "output_type": "execute_result"
    }
   ],
   "source": [
    "l"
   ]
  },
  {
   "cell_type": "code",
   "execution_count": 18,
   "id": "90029672-e3e4-4cbf-9b7e-c9b2aa20f92e",
   "metadata": {},
   "outputs": [
    {
     "name": "stdin",
     "output_type": "stream",
     "text": [
      " gorgeous\n"
     ]
    },
    {
     "name": "stdout",
     "output_type": "stream",
     "text": [
      "o\n",
      "e\n",
      "o\n",
      "u\n"
     ]
    }
   ],
   "source": [
    "a=input()\n",
    "for i in a :\n",
    "    if i== 'a' or i=='e' or i=='o' or i=='i' or i=='u':\n",
    "        print (i)\n",
    "    "
   ]
  },
  {
   "cell_type": "code",
   "execution_count": 19,
   "id": "40859350-9d89-41ee-b753-1727e35fe108",
   "metadata": {},
   "outputs": [
    {
     "name": "stdin",
     "output_type": "stream",
     "text": [
      " voltage\n"
     ]
    }
   ],
   "source": [
    "e=input()\n",
    "r=e[::-1]"
   ]
  },
  {
   "cell_type": "code",
   "execution_count": 20,
   "id": "da8ed7ad-f18c-4a14-80f0-d0502f41c716",
   "metadata": {},
   "outputs": [
    {
     "data": {
      "text/plain": [
       "'egatlov'"
      ]
     },
     "execution_count": 20,
     "metadata": {},
     "output_type": "execute_result"
    }
   ],
   "source": [
    "r"
   ]
  },
  {
   "cell_type": "code",
   "execution_count": 21,
   "id": "0b6ed2a0-114a-4821-b66c-c723eecdb336",
   "metadata": {},
   "outputs": [
    {
     "name": "stdin",
     "output_type": "stream",
     "text": [
      " futuf\n"
     ]
    },
    {
     "name": "stdout",
     "output_type": "stream",
     "text": [
      "palidrome string\n"
     ]
    }
   ],
   "source": [
    "e=input()\n",
    "r=e[::-1]\n",
    "if e==r:\n",
    "    print('palidrome string')\n",
    "else:\n",
    "    print('not a palidromr string')"
   ]
  },
  {
   "cell_type": "code",
   "execution_count": 22,
   "id": "aee330fa-381b-4a6a-9070-3dbd4c4e18ee",
   "metadata": {},
   "outputs": [
    {
     "name": "stdin",
     "output_type": "stream",
     "text": [
      " A One Stop Tech Solution where all your skills get sharpened and learn from the best tutors around the world that can easily boost your career\n"
     ]
    },
    {
     "data": {
      "text/plain": [
       "'AOneStopTechSolutionwhereallyourskillsgetsharpenedandlearnfromthebesttutorsaroundtheworldthatcaneasilyboostyourcareer'"
      ]
     },
     "execution_count": 22,
     "metadata": {},
     "output_type": "execute_result"
    }
   ],
   "source": [
    "v=input()\n",
    "w=v.replace(\" \",\"\")\n",
    "w"
   ]
  },
  {
   "cell_type": "code",
   "execution_count": null,
   "id": "dc9a1f7d-c609-4ce9-9a2d-b60583eeede9",
   "metadata": {},
   "outputs": [],
   "source": []
  }
 ],
 "metadata": {
  "kernelspec": {
   "display_name": "Python 3 (ipykernel)",
   "language": "python",
   "name": "python3"
  },
  "language_info": {
   "codemirror_mode": {
    "name": "ipython",
    "version": 3
   },
   "file_extension": ".py",
   "mimetype": "text/x-python",
   "name": "python",
   "nbconvert_exporter": "python",
   "pygments_lexer": "ipython3",
   "version": "3.10.8"
  }
 },
 "nbformat": 4,
 "nbformat_minor": 5
}
